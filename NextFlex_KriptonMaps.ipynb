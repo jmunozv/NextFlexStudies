{
 "cells": [
  {
   "cell_type": "markdown",
   "metadata": {},
   "source": [
    "<p style=\"font-family: Arial; font-size:3.75em;color:purple; font-style:bold\"><br>\n",
    "'NEXT FLEX' Kripton Maps</p><br>"
   ]
  },
  {
   "cell_type": "markdown",
   "metadata": {},
   "source": [
    "This notebook makes Kripton Maps fow two different energy readouts: PMTs and FIBERs\n",
    "\n",
    "Its main porpouse is to check ...\n"
   ]
  },
  {
   "cell_type": "code",
   "execution_count": null,
   "metadata": {},
   "outputs": [],
   "source": [
    "from IPython.core.display import HTML\n",
    "css = open('css/style-table.css').read() + open('css/style-notebook.css').read()\n",
    "HTML('<style>{}</style>'.format(css))"
   ]
  },
  {
   "cell_type": "code",
   "execution_count": null,
   "metadata": {},
   "outputs": [],
   "source": [
    "# General importings\n",
    "import os\n",
    "import sys\n",
    "import logging\n",
    "import math\n",
    "\n",
    "import glob\n",
    "\n",
    "import numpy  as np\n",
    "import tables as tb\n",
    "import pandas as pd\n",
    "import matplotlib.pyplot as plt\n",
    "from matplotlib import colors\n",
    "\n",
    "# Specific IC stuff\n",
    "import invisible_cities.core.system_of_units  as units\n",
    "\n",
    "from invisible_cities.io.mcinfo_io import load_mcparticles_df\n",
    "from invisible_cities.io.mcinfo_io import load_mchits_df\n",
    "from invisible_cities.io.mcinfo_io import load_mcsensor_response_df\n",
    "from invisible_cities.io.mcinfo_io import get_sensor_binning\n",
    "from invisible_cities.io.mcinfo_io import get_sensor_types\n",
    "\n",
    "from my_IC.mcinfo_io import get_sensor_positions\n",
    "\n",
    "\n",
    "### In case of NOT having IC, use these alternative imports ###\n",
    "#import my_IC.system_of_units  as units\n",
    "#\n",
    "#from my_IC.mcinfo_io import load_mcparticles_df\n",
    "#from my_IC.mcinfo_io import load_mchits_df\n",
    "#from my_IC.mcinfo_io import load_mcsensor_response_df\n",
    "#from my_IC.mcinfo_io import get_sensor_binning\n",
    "#from my_IC.mcinfo_io import get_sensor_types\n",
    "#from my_IC.mcinfo_io import get_sensor_positions"
   ]
  },
  {
   "cell_type": "code",
   "execution_count": null,
   "metadata": {},
   "outputs": [],
   "source": [
    "%matplotlib inline\n",
    "%load_ext autoreload\n",
    "%autoreload 2"
   ]
  },
  {
   "cell_type": "code",
   "execution_count": null,
   "metadata": {},
   "outputs": [],
   "source": [
    "plt.rcParams[\"figure.figsize\"] = 8, 6\n",
    "plt.rcParams[\"font.size\"     ] = 14"
   ]
  },
  {
   "cell_type": "code",
   "execution_count": null,
   "metadata": {},
   "outputs": [],
   "source": [
    "VERBOSITY = True"
   ]
  },
  {
   "cell_type": "markdown",
   "metadata": {},
   "source": [
    "# INPUT DATA"
   ]
  },
  {
   "cell_type": "markdown",
   "metadata": {},
   "source": [
    "Input data consist of 1e4 Kripton events generated randomly in ACTIVE, stored in 100 different files.\n",
    "Different events have different event_ids despite the file they are stored in.\n",
    "\n",
    "In order to make a fair comparison, Next-Flex had both energy-reading sensor types:\n",
    "* PMTs, wich have the real PDE implemented in the simulations so their response are 'pes'.\n",
    "* FIBER_SENSORs, with a PDE=1 in the sims, so their response are 'photons'.\n",
    "\n",
    "As we have both energy-reading systems implemented in the simulation, the light they see is slightly lower than if we had implemented just one of them."
   ]
  },
  {
   "cell_type": "markdown",
   "metadata": {},
   "source": [
    "The data must be placed locally in a a given PATH.\n",
    "\n",
    "Data files can be found in:\n",
    "* NEUTRINOS: '/data4/NEXT/users/jmunoz/Development/NextFlex/data/Kr83/ACTIVE/dst'\n",
    "* MAJORANA:  '/home/jmunoz/Development/NextFlex/data/Kr83/ACTIVE/dst'"
   ]
  },
  {
   "cell_type": "code",
   "execution_count": null,
   "metadata": {},
   "outputs": [],
   "source": [
    "LOCAL_PATH = \"./data/kripton/\"\n",
    "\n",
    "iFileNames = glob.glob(f\"{LOCAL_PATH}*.h5\")\n",
    "\n",
    "if VERBOSITY:\n",
    "    print(f\"{len(iFileNames)} input file names ...\\n\")\n",
    "    #for ifname in iFileNames: print(ifname)"
   ]
  },
  {
   "cell_type": "markdown",
   "metadata": {},
   "source": [
    "# Reading mc info"
   ]
  },
  {
   "cell_type": "markdown",
   "metadata": {},
   "source": [
    "Using the first iFile to get the general Info"
   ]
  },
  {
   "cell_type": "code",
   "execution_count": null,
   "metadata": {},
   "outputs": [],
   "source": [
    "iFileName = iFileNames[0]"
   ]
  },
  {
   "cell_type": "code",
   "execution_count": null,
   "metadata": {},
   "outputs": [],
   "source": [
    "mcConfig = pd.read_hdf(iFileName, 'MC/configuration')\n",
    "mcConfig.set_index(\"param_key\", inplace = True)\n",
    "mcConfig"
   ]
  },
  {
   "cell_type": "code",
   "execution_count": null,
   "metadata": {},
   "outputs": [],
   "source": [
    "mcSensorBinnings = get_sensor_binning(iFileName)\n",
    "mcSensorBinnings"
   ]
  },
  {
   "cell_type": "code",
   "execution_count": null,
   "metadata": {},
   "outputs": [],
   "source": [
    "mcSensorTypes = get_sensor_types(iFileName)\n",
    "mcSensorTypes.head()"
   ]
  },
  {
   "cell_type": "code",
   "execution_count": null,
   "metadata": {},
   "outputs": [],
   "source": [
    "mcSensorPositions = get_sensor_positions(iFileName)\n",
    "mcSensorPositions.head()"
   ]
  },
  {
   "cell_type": "markdown",
   "metadata": {},
   "source": [
    "# Kripton Maps - from True Kripton Positions"
   ]
  },
  {
   "cell_type": "code",
   "execution_count": null,
   "metadata": {},
   "outputs": [],
   "source": [
    "def get_evt_true_positions(mcParts: pd.DataFrame\n",
    "                          )      -> pd.DataFrame:\n",
    "    \n",
    "    # Getting the true position of the events\n",
    "    # From the initial vertex of the first particle that is always primary\n",
    "    evt_truePos = mcParts.loc[pd.IndexSlice[:, 1], ['initial_x', 'initial_y', 'initial_z']]\n",
    "    \n",
    "    # Removing the 'particle_id' column\n",
    "    evt_truePos = pd.DataFrame(evt_truePos.values,\n",
    "                               index=evt_truePos.index.droplevel(1),\n",
    "                               columns=evt_truePos.columns)\n",
    "    \n",
    "    return evt_truePos"
   ]
  },
  {
   "cell_type": "code",
   "execution_count": null,
   "metadata": {},
   "outputs": [],
   "source": [
    "# Reading all the data\n",
    "mcParts                = pd.DataFrame()\n",
    "PMTs_response          = pd.DataFrame()\n",
    "FIBER_SENSORs_response = pd.DataFrame()\n",
    "\n",
    "for iFileName in iFileNames:\n",
    "    mcParts                = mcParts.append(\n",
    "        load_mcparticles_df(iFileName))\n",
    "    PMTs_response          = PMTs_response.append(\n",
    "        load_mcsensor_response_df(iFileName, sns_name='PmtR11410'))\n",
    "    FIBER_SENSORs_response = FIBER_SENSORs_response.append(\n",
    "        load_mcsensor_response_df(iFileName, sns_name='FIBER_SENSOR'))"
   ]
  },
  {
   "cell_type": "code",
   "execution_count": null,
   "metadata": {},
   "outputs": [],
   "source": [
    "kripton_df = get_evt_true_positions(mcParts)"
   ]
  },
  {
   "cell_type": "code",
   "execution_count": null,
   "metadata": {},
   "outputs": [],
   "source": [
    "kripton_df['PMTs']          = PMTs_response         .groupby('event_id').charge.sum()\n",
    "kripton_df['FIBER_SENSORs'] = FIBER_SENSORs_response.groupby('event_id').charge.sum()"
   ]
  },
  {
   "cell_type": "code",
   "execution_count": null,
   "metadata": {},
   "outputs": [],
   "source": [
    "kripton_df.head()"
   ]
  },
  {
   "cell_type": "code",
   "execution_count": null,
   "metadata": {},
   "outputs": [],
   "source": []
  },
  {
   "cell_type": "markdown",
   "metadata": {},
   "source": [
    "# Visualizing the maps ..."
   ]
  },
  {
   "cell_type": "code",
   "execution_count": null,
   "metadata": {},
   "outputs": [],
   "source": [
    "# TO BE IMPLEMENTED"
   ]
  },
  {
   "cell_type": "code",
   "execution_count": null,
   "metadata": {},
   "outputs": [],
   "source": [
    "from matplotlib import cm"
   ]
  },
  {
   "cell_type": "code",
   "execution_count": null,
   "metadata": {},
   "outputs": [],
   "source": [
    "kripton_df.plot(kind='scatter', x='initial_z', y='PMTs', color='blue')"
   ]
  },
  {
   "cell_type": "code",
   "execution_count": null,
   "metadata": {},
   "outputs": [],
   "source": [
    "kripton_df.plot(kind='scatter',x='initial_z',y='FIBER_SENSORs',color='green')"
   ]
  },
  {
   "cell_type": "code",
   "execution_count": null,
   "metadata": {},
   "outputs": [],
   "source": [
    "fig = plt.figure()\n",
    "ax  = Axes3D(fig)\n",
    "\n",
    "surf = ax.plot_trisurf(kripton_df.initial_x, kripton_df.initial_y, kripton_df.PMTs,\n",
    "                cmap=cm.coolwarm, linewidth=0.2)\n",
    "fig.colorbar(surf, shrink=0.5, aspect=5)\n",
    "plt.show()"
   ]
  },
  {
   "cell_type": "code",
   "execution_count": null,
   "metadata": {},
   "outputs": [],
   "source": [
    "fig = plt.figure()\n",
    "ax  = Axes3D(fig)\n",
    "\n",
    "surf = ax.plot_trisurf(kripton_df.initial_x, kripton_df.initial_y, kripton_df.FIBER_SENSORs,\n",
    "                cmap=cm.coolwarm, linewidth=0.2)\n",
    "fig.colorbar(surf, shrink=0.5, aspect=5)\n",
    "plt.show()"
   ]
  },
  {
   "cell_type": "code",
   "execution_count": null,
   "metadata": {},
   "outputs": [],
   "source": []
  },
  {
   "cell_type": "code",
   "execution_count": null,
   "metadata": {},
   "outputs": [],
   "source": []
  },
  {
   "cell_type": "code",
   "execution_count": null,
   "metadata": {},
   "outputs": [],
   "source": []
  },
  {
   "cell_type": "code",
   "execution_count": null,
   "metadata": {},
   "outputs": [],
   "source": []
  }
 ],
 "metadata": {
  "kernelspec": {
   "display_name": "Python 3",
   "language": "python",
   "name": "python3"
  },
  "language_info": {
   "codemirror_mode": {
    "name": "ipython",
    "version": 3
   },
   "file_extension": ".py",
   "mimetype": "text/x-python",
   "name": "python",
   "nbconvert_exporter": "python",
   "pygments_lexer": "ipython3",
   "version": "3.7.1"
  }
 },
 "nbformat": 4,
 "nbformat_minor": 2
}
